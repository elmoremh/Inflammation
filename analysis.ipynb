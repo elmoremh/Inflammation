{
 "metadata": {
  "name": "",
  "signature": "sha256:d747558a419e6ef22b76064e7e8a840bf2a3d001760b4a0351b1f35b95f2e333"
 },
 "nbformat": 3,
 "nbformat_minor": 0,
 "worksheets": [
  {
   "cells": [
    {
     "cell_type": "code",
     "collapsed": false,
     "input": [
      "# get the number of each file from the name\n",
      "filename = 'inflammation_1.dat'\n",
      "filename[13:-4] #count from the back so that you'll get the number no matter how big it is"
     ],
     "language": "python",
     "metadata": {},
     "outputs": [
      {
       "metadata": {},
       "output_type": "pyout",
       "prompt_number": 2,
       "text": [
        "'1'"
       ]
      }
     ],
     "prompt_number": 2
    },
    {
     "cell_type": "code",
     "collapsed": false,
     "input": [
      "# function to assign a drug to a file based on file naming system\n",
      "\n",
      "def assign_drug(filename):\n",
      "    number = filename[13:-4]\n",
      "    result = ''\n",
      "    if (int(number) % 2) == int(1):\n",
      "        result = 'tylenol'\n",
      "    else:\n",
      "        result = 'placebo'\n",
      "    return result\n",
      "\n",
      "assert assign_drug(\"inflammation_1.dat\") == \"tylenol\" #testing function with asserts\n",
      "assert assign_drug(\"inflammation_4.dat\") == \"placebo\" #make sure it works for even numbers\n",
      "assert assign_drug(\"inflammation_3.dat\") == \"tylenol\" #make sure it works for odd numbers"
     ],
     "language": "python",
     "metadata": {},
     "outputs": [],
     "prompt_number": 3
    },
    {
     "cell_type": "code",
     "collapsed": false,
     "input": [
      "#made bash script add_drug.sh\n",
      "#made bash script around add_drug.sh that looped through all of the inflam* files"
     ],
     "language": "python",
     "metadata": {},
     "outputs": [],
     "prompt_number": 1
    },
    {
     "cell_type": "code",
     "collapsed": false,
     "input": [
      "%matplotlib inline\n",
      "\n",
      "import numpy as np\n",
      "import matplotlib.pyplot as plt\n",
      "\n",
      "def analyze(filename):\n",
      "    data = np.loadtxt(fname = filename, delimiter=',')\n",
      "    \n",
      "    plt.figure(figsize=((10.0, 3.0)))\n",
      "    \n",
      "    plt.subplot(1, 1, 1)\n",
      "    plt.ylabel(\"average\")\n",
      "    plt.plot(data.mean(0))\n",
      "    \n",
      "analyze(\"inflammation-01.csv\")"
     ],
     "language": "python",
     "metadata": {},
     "outputs": [
      {
       "metadata": {},
       "output_type": "display_data",
       "png": "[encoded data removed]",
       "text": [
        "<matplotlib.figure.Figure at 0x5859cb0>"
       ]
      }
     ],
     "prompt_number": 11
    },
    {
     "cell_type": "code",
     "collapsed": false,
     "input": [],
     "language": "python",
     "metadata": {},
     "outputs": []
    }
   ],
   "metadata": {}
  }
 ]
}